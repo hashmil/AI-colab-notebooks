{
  "nbformat": 4,
  "nbformat_minor": 0,
  "metadata": {
    "colab": {
      "provenance": [],
      "authorship_tag": "ABX9TyPgFBawkPkZqRe/ukVI0W9J",
      "include_colab_link": true
    },
    "kernelspec": {
      "name": "python3",
      "display_name": "Python 3"
    },
    "language_info": {
      "name": "python"
    },
    "accelerator": "GPU",
    "gpuClass": "standard"
  },
  "cells": [
    {
      "cell_type": "markdown",
      "metadata": {
        "id": "view-in-github",
        "colab_type": "text"
      },
      "source": [
        "<a href=\"https://colab.research.google.com/github/hashmil/AI-colab-notebooks/blob/main/Kandinsky_2_1_text2img_Colab_by_ha5hmil.ipynb\" target=\"_parent\"><img src=\"https://colab.research.google.com/assets/colab-badge.svg\" alt=\"Open In Colab\"/></a>"
      ]
    },
    {
      "cell_type": "markdown",
      "source": [
        "First go to Runtime > Change runtime type > Select GPU under Hardware Accelerator"
      ],
      "metadata": {
        "id": "CEnM7fG8P2IY"
      }
    },
    {
      "cell_type": "markdown",
      "source": [],
      "metadata": {
        "id": "hnAPLAwzQJTK"
      }
    },
    {
      "cell_type": "code",
      "execution_count": null,
      "metadata": {
        "id": "2b2E14tyXTOx",
        "cellView": "form"
      },
      "outputs": [],
      "source": [
        "#@markdown # Install latest Git repositaries\n",
        "!pip install 'git+https://github.com/ai-forever/Kandinsky-2.git'\n",
        "!pip install git+https://github.com/openai/CLIP.git"
      ]
    },
    {
      "cell_type": "code",
      "source": [
        "#@markdown # Download models and files\n",
        "\n",
        "from kandinsky2 import get_kandinsky2\n",
        "import torch\n",
        "\n",
        "device = 'cuda' if torch.cuda.is_available() else 'cpu'\n",
        "\n",
        "model = get_kandinsky2(\n",
        "    device,\n",
        "    task_type='text2img', \n",
        "    cache_dir='/tmp/kandinsky2', \n",
        "    model_version='2.1', \n",
        "    use_flash_attention=False\n",
        ")\n"
      ],
      "metadata": {
        "id": "ruo4FfkBYrsd",
        "cellView": "form"
      },
      "execution_count": null,
      "outputs": []
    },
    {
      "cell_type": "code",
      "source": [
        "#@markdown # Generate images\n",
        "\n",
        "PROMPT_TEXT = \"Red cat, 4k photo\" #@param {type:\"string\"}\n",
        "STEPNUM = 50 #@param {type:\"number\"}\n",
        "BATCHSIZE = 1 #@param {type:\"number\"}\n",
        "GUIDANCESCALE = 4 #@param {type:\"number\"}\n",
        "HEIGHT = 768 #@param {type:\"number\"}\n",
        "WIDTH = 768 #@param {type:\"number\"}\n",
        "CFSCALE = 4 #@param {type:\"number\"}\n",
        "PRIORSTEPS = \"5\" #@param {type:\"string\"}\n",
        "\n",
        "images = model.generate_text2img(\n",
        "    PROMPT_TEXT,\n",
        "    num_steps=STEPNUM,\n",
        "    batch_size=BATCHSIZE,\n",
        "    guidance_scale=GUIDANCESCALE,\n",
        "    h=HEIGHT,\n",
        "    w=WIDTH,\n",
        "    sampler='p_sampler', \n",
        "    prior_cf_scale=CFSCALE,\n",
        "    prior_steps=PRIORSTEPS\n",
        ")\n",
        "\n",
        "images [0]"
      ],
      "metadata": {
        "id": "FAU8gkdXdgbX",
        "cellView": "form"
      },
      "execution_count": null,
      "outputs": []
    }
  ]
}